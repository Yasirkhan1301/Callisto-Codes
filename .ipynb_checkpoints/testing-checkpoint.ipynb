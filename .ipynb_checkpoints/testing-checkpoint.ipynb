{
 "cells": [
  {
   "cell_type": "code",
   "execution_count": null,
   "id": "adf24320",
   "metadata": {},
   "outputs": [],
   "source": []
  },
  {
   "cell_type": "code",
   "execution_count": 1,
   "id": "f75cdee1",
   "metadata": {},
   "outputs": [],
   "source": [
    "import ftputil\n",
    "import urllib \n",
    "from urllib.request import urlopen\n",
    "import os\n",
    "import pandas as pd"
   ]
  },
  {
   "cell_type": "code",
   "execution_count": 10,
   "id": "ba6191b3",
   "metadata": {},
   "outputs": [
    {
     "name": "stdout",
     "output_type": "stream",
     "text": [
      "                      0\n",
      "0    20220101events.txt\n",
      "1    20220102events.txt\n",
      "2    20220103events.txt\n",
      "3    20220104events.txt\n",
      "4    20220105events.txt\n",
      "..                  ...\n",
      "344  20221211events.txt\n",
      "345  20221212events.txt\n",
      "346  20221213events.txt\n",
      "347  20221214events.txt\n",
      "348                    \n",
      "\n",
      "[349 rows x 1 columns]\n"
     ]
    }
   ],
   "source": [
    "hostname = \"ftp://ftp.swpc.noaa.gov/pub/warehouse/2022/2022_events\"\n",
    "ftpstream = urllib.request.urlopen(hostname)\n",
    "# ftpstream = urllib.request.urlretrieve(hostname,\"20220101events.txt\")\n",
    "with urlopen(hostname) as response:\n",
    "    body = response.read().decode('utf-8')\n",
    "    df = pd.DataFrame(body.split('\\n'))\n",
    "df[0] = df[0].str[55:73]\n",
    "print(df)\n"
   ]
  },
  {
   "cell_type": "code",
   "execution_count": null,
   "id": "9178b95d",
   "metadata": {},
   "outputs": [],
   "source": []
  }
 ],
 "metadata": {
  "kernelspec": {
   "display_name": "Python 3",
   "language": "python",
   "name": "python3"
  },
  "language_info": {
   "codemirror_mode": {
    "name": "ipython",
    "version": 3
   },
   "file_extension": ".py",
   "mimetype": "text/x-python",
   "name": "python",
   "nbconvert_exporter": "python",
   "pygments_lexer": "ipython3",
   "version": "3.6.13"
  },
  "varInspector": {
   "cols": {
    "lenName": 16,
    "lenType": 16,
    "lenVar": 40
   },
   "kernels_config": {
    "python": {
     "delete_cmd_postfix": "",
     "delete_cmd_prefix": "del ",
     "library": "var_list.py",
     "varRefreshCmd": "print(var_dic_list())"
    },
    "r": {
     "delete_cmd_postfix": ") ",
     "delete_cmd_prefix": "rm(",
     "library": "var_list.r",
     "varRefreshCmd": "cat(var_dic_list()) "
    }
   },
   "types_to_exclude": [
    "module",
    "function",
    "builtin_function_or_method",
    "instance",
    "_Feature"
   ],
   "window_display": false
  }
 },
 "nbformat": 4,
 "nbformat_minor": 5
}
