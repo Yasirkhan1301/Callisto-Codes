{
 "cells": [
  {
   "cell_type": "code",
   "execution_count": null,
   "id": "adf24320",
   "metadata": {},
   "outputs": [],
   "source": []
  },
  {
   "cell_type": "code",
   "execution_count": 1,
   "id": "f75cdee1",
   "metadata": {},
   "outputs": [],
   "source": [
    "import ftputil\n",
    "import urllib \n",
    "from urllib.request import urlopen\n",
    "import os\n",
    "import pandas as pd"
   ]
  },
  {
   "cell_type": "code",
   "execution_count": 16,
   "id": "ba6191b3",
   "metadata": {
    "code_folding": []
   },
   "outputs": [
    {
     "name": "stdout",
     "output_type": "stream",
     "text": [
      "                      0\n",
      "0    20220101events.txt\n",
      "1    20220102events.txt\n",
      "2    20220103events.txt\n",
      "3    20220104events.txt\n",
      "4    20220105events.txt\n",
      "..                  ...\n",
      "343  20221210events.txt\n",
      "344  20221211events.txt\n",
      "345  20221212events.txt\n",
      "346  20221213events.txt\n",
      "347  20221214events.txt\n",
      "\n",
      "[348 rows x 1 columns]\n"
     ]
    }
   ],
   "source": [
    "#testing ftp data download\n",
    "hostname = \"ftp://ftp.swpc.noaa.gov/pub/warehouse/2022/2022_events\"\n",
    "ftpstream = urllib.request.urlopen(hostname)\n",
    "# ftpstream = urllib.request.urlretrieve(hostname,\"20220101events.txt\")\n",
    "with urlopen(hostname) as response:\n",
    "    body = response.read().decode('utf-8')\n",
    "    df = pd.DataFrame(body.split('\\n'))\n",
    "df[0] = df[0].str[55:73]\n",
    "df[0].replace('', np.nan, inplace=True)\n",
    "df.dropna(subset=[0], inplace=True)\n",
    "# print(df)\n"
   ]
  },
  {
   "cell_type": "code",
   "execution_count": 23,
   "id": "d96a3128",
   "metadata": {
    "code_folding": [
     9
    ]
   },
   "outputs": [
    {
     "name": "stdout",
     "output_type": "stream",
     "text": [
      "11\n"
     ]
    }
   ],
   "source": [
    "#testing inheriance\n",
    "class a:\n",
    "    def __init__(self,bf):\n",
    "        self.bf = bf\n",
    "    def printing(self):\n",
    "        print(self.bf)\n",
    "    def show(self):\n",
    "        print(self.bf + 6)\n",
    "    \n",
    "class b(a):\n",
    "    def __init__(self,bf):\n",
    "        super().__init__(bf)#calling parent class functions and properties\n",
    "    def ht(self):\n",
    "        self.printing() #can call parent class method\n",
    "    def hp(self):\n",
    "        self.show()\n",
    "# object of b\n",
    "bg = b(5)\n",
    "bg.hp()"
   ]
  },
  {
   "cell_type": "code",
   "execution_count": null,
   "id": "1870b0a6",
   "metadata": {},
   "outputs": [],
   "source": [
    "#testing multiple inheritance\n",
    "class a:\n",
    "    def __init__(self,bf):\n",
    "        self.bf = bf\n",
    "    def printing(self):\n",
    "        print(self.bf)\n",
    "    def show(self):\n",
    "        print(self.bf + 6)\n",
    "    \n",
    "class b(a):\n",
    "    def __init__(self,bf):\n",
    "        super().__init__(bf)#calling parent class functions and properties\n",
    "    def ht(self):\n",
    "        self.printing() #can call parent class method\n",
    "    def hp(self):\n",
    "        self.show()\n",
    "# object of b\n",
    "class c:\n",
    "    def __init__(self, x):\n",
    "        self.x = x\n",
    "        \n",
    "    def three(self):\n",
    "        print(\"Third class :\", x)\n",
    "class derived(b,c):\n",
    "    def __init(self):\n",
    "        super().__init__()\n",
    "        \n",
    "    def using(self):\n",
    "        self.three()\n",
    "        \n",
    "bg = derived\n",
    "bg.hp()"
   ]
  },
  {
   "cell_type": "code",
   "execution_count": 30,
   "id": "feb31a87",
   "metadata": {},
   "outputs": [
    {
     "ename": "TypeError",
     "evalue": "object.__init__() takes no parameters",
     "output_type": "error",
     "traceback": [
      "\u001b[1;31m---------------------------------------------------------------------------\u001b[0m",
      "\u001b[1;31mTypeError\u001b[0m                                 Traceback (most recent call last)",
      "\u001b[1;32m<ipython-input-30-e974d78a842e>\u001b[0m in \u001b[0;36m<module>\u001b[1;34m\u001b[0m\n\u001b[0;32m     12\u001b[0m     \u001b[1;34m\"c\"\u001b[0m \u001b[1;33m:\u001b[0m \u001b[1;36m13\u001b[0m\u001b[1;33m\u001b[0m\u001b[1;33m\u001b[0m\u001b[0m\n\u001b[0;32m     13\u001b[0m }\n\u001b[1;32m---> 14\u001b[1;33m \u001b[0mg\u001b[0m \u001b[1;33m=\u001b[0m \u001b[0ma\u001b[0m\u001b[1;33m(\u001b[0m\u001b[1;36m6\u001b[0m\u001b[1;33m,\u001b[0m\u001b[0ma\u001b[0m\u001b[1;33m=\u001b[0m\u001b[1;36m8\u001b[0m\u001b[1;33m,\u001b[0m\u001b[0mb\u001b[0m\u001b[1;33m=\u001b[0m\u001b[1;36m11\u001b[0m\u001b[1;33m,\u001b[0m\u001b[0mc\u001b[0m\u001b[1;33m=\u001b[0m\u001b[1;36m55\u001b[0m\u001b[1;33m)\u001b[0m\u001b[1;33m\u001b[0m\u001b[1;33m\u001b[0m\u001b[0m\n\u001b[0m\u001b[0;32m     15\u001b[0m \u001b[0mg\u001b[0m\u001b[1;33m.\u001b[0m\u001b[0mshow\u001b[0m\u001b[1;33m(\u001b[0m\u001b[1;33m)\u001b[0m\u001b[1;33m\u001b[0m\u001b[1;33m\u001b[0m\u001b[0m\n\u001b[0;32m     16\u001b[0m \u001b[1;31m# g.show()\u001b[0m\u001b[1;33m\u001b[0m\u001b[1;33m\u001b[0m\u001b[1;33m\u001b[0m\u001b[0m\n",
      "\u001b[1;32m<ipython-input-30-e974d78a842e>\u001b[0m in \u001b[0;36m__init__\u001b[1;34m(self, bf, **kwargs)\u001b[0m\n\u001b[0;32m      2\u001b[0m     \u001b[1;32mdef\u001b[0m \u001b[0m__init__\u001b[0m\u001b[1;33m(\u001b[0m\u001b[0mself\u001b[0m\u001b[1;33m,\u001b[0m\u001b[0mbf\u001b[0m\u001b[1;33m,\u001b[0m \u001b[1;33m**\u001b[0m\u001b[0mkwargs\u001b[0m\u001b[1;33m)\u001b[0m\u001b[1;33m:\u001b[0m\u001b[1;33m\u001b[0m\u001b[1;33m\u001b[0m\u001b[0m\n\u001b[0;32m      3\u001b[0m \u001b[1;33m\u001b[0m\u001b[0m\n\u001b[1;32m----> 4\u001b[1;33m         \u001b[0msuper\u001b[0m\u001b[1;33m(\u001b[0m\u001b[0ma\u001b[0m\u001b[1;33m,\u001b[0m\u001b[0mself\u001b[0m\u001b[1;33m)\u001b[0m\u001b[1;33m.\u001b[0m\u001b[0m__init__\u001b[0m\u001b[1;33m(\u001b[0m\u001b[1;33m**\u001b[0m\u001b[0mkwargs\u001b[0m\u001b[1;33m)\u001b[0m\u001b[1;33m\u001b[0m\u001b[1;33m\u001b[0m\u001b[0m\n\u001b[0m\u001b[0;32m      5\u001b[0m         \u001b[0mself\u001b[0m\u001b[1;33m.\u001b[0m\u001b[0mbf\u001b[0m \u001b[1;33m=\u001b[0m \u001b[0mbf\u001b[0m\u001b[1;33m\u001b[0m\u001b[1;33m\u001b[0m\u001b[0m\n\u001b[0;32m      6\u001b[0m \u001b[1;33m\u001b[0m\u001b[0m\n",
      "\u001b[1;31mTypeError\u001b[0m: object.__init__() takes no parameters"
     ]
    }
   ],
   "source": [
    "class a:\n",
    "    def __init__(self,bf, **kwargs):\n",
    "        \n",
    "        super(a,self).__init__(**kwargs)\n",
    "        self.bf = bf\n",
    "        \n",
    "    def show(self):\n",
    "        print(self.bf)\n",
    "kwargs = {\n",
    "    \"a\" : 8,\n",
    "    \"b\" : 11,\n",
    "    \"c\" : 13\n",
    "}\n",
    "g = a(6,a=8,b=11,c=55)\n",
    "g.show()\n",
    "# g.show()\n"
   ]
  },
  {
   "cell_type": "code",
   "execution_count": 29,
   "id": "a0794a88",
   "metadata": {},
   "outputs": [],
   "source": [
    "class AMix:\n",
    "    def __init__(self, a, **kwargs):\n",
    "        super().__init__(**kwargs)\n",
    "        self.a = a\n",
    "        \n",
    "g = AMix(5)"
   ]
  },
  {
   "cell_type": "code",
   "execution_count": 26,
   "id": "b290af73",
   "metadata": {},
   "outputs": [],
   "source": [
    "class First(object):\n",
    "    def __init__(self, *args, **kwargs):\n",
    "        self.first_arg = kwargs.pop('first_arg')\n",
    "        super(First, self).__init__(*args, **kwargs)\n",
    "\n",
    "class Second(First):\n",
    "    def __init__(self, *args, **kwargs):\n",
    "        self.second_arg = kwargs.pop('second_arg')\n",
    "        super(Second, self).__init__(*args, **kwargs)\n",
    "        \n",
    "    def show(self):\n",
    "        print(self.first_arg)\n",
    "\n",
    "class Third(Second):\n",
    "    def __init__(self, *args, **kwargs):\n",
    "        self.third_arg = kwargs.pop('third_arg')\n",
    "        super(Third, self).__init__(*args, **kwargs)"
   ]
  },
  {
   "cell_type": "code",
   "execution_count": 28,
   "id": "c114bdc3",
   "metadata": {},
   "outputs": [
    {
     "name": "stdout",
     "output_type": "stream",
     "text": [
      "1\n"
     ]
    }
   ],
   "source": [
    "third = Third(first_arg=1, second_arg=2, third_arg=3)\n",
    "third.show()"
   ]
  },
  {
   "cell_type": "code",
   "execution_count": null,
   "id": "199d6f45",
   "metadata": {},
   "outputs": [],
   "source": []
  }
 ],
 "metadata": {
  "kernelspec": {
   "display_name": "Python 3",
   "language": "python",
   "name": "python3"
  },
  "language_info": {
   "codemirror_mode": {
    "name": "ipython",
    "version": 3
   },
   "file_extension": ".py",
   "mimetype": "text/x-python",
   "name": "python",
   "nbconvert_exporter": "python",
   "pygments_lexer": "ipython3",
   "version": "3.6.13"
  },
  "varInspector": {
   "cols": {
    "lenName": 16,
    "lenType": 16,
    "lenVar": 40
   },
   "kernels_config": {
    "python": {
     "delete_cmd_postfix": "",
     "delete_cmd_prefix": "del ",
     "library": "var_list.py",
     "varRefreshCmd": "print(var_dic_list())"
    },
    "r": {
     "delete_cmd_postfix": ") ",
     "delete_cmd_prefix": "rm(",
     "library": "var_list.r",
     "varRefreshCmd": "cat(var_dic_list()) "
    }
   },
   "types_to_exclude": [
    "module",
    "function",
    "builtin_function_or_method",
    "instance",
    "_Feature"
   ],
   "window_display": false
  }
 },
 "nbformat": 4,
 "nbformat_minor": 5
}
