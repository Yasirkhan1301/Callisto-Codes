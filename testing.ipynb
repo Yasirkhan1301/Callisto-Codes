{
 "cells": [
  {
   "cell_type": "code",
   "execution_count": null,
   "id": "adf24320",
   "metadata": {},
   "outputs": [],
   "source": []
  },
  {
   "cell_type": "code",
   "execution_count": 107,
   "id": "23c09157",
   "metadata": {},
   "outputs": [],
   "source": [
    "import ftputil\n",
    "import urllib \n",
    "from urllib.request import urlopen\n",
    "import os\n",
    "import pandas as pd"
   ]
  },
  {
   "cell_type": "code",
   "execution_count": null,
   "id": "451efafb",
   "metadata": {},
   "outputs": [],
   "source": [
    "hostname = \"ftp://ftp.swpc.noaa.gov/pub/warehouse/2022/2022_events\"\n",
    "ftpstream = urllib.request.urlopen(hostname)\n",
    "# ftpstream = urllib.request.urlretrieve(hostname,\"20220101events.txt\")\n",
    "res = []\n",
    "with urlopen(hostname) as response:\n",
    "    body = response.read().decode('utf-8')\n",
    "#     print(body)\n",
    "#     df = pd.DataFrame(body.split('\\r'))\n",
    "    df = pd.DataFrame(body.split('-rw-r--r--   1 ftp      ftp          '))\n",
    "#     df = body\n",
    "    df[0] = df[0].str[20:]\n",
    "    df[0] = df[0].str[0:16]\n",
    "    print(df)\n",
    "    \n",
    "       \n",
    "       \n",
    "#        print(body[55:75])\n",
    "#        print(type(response.read()))\n"
   ]
  },
  {
   "cell_type": "code",
   "execution_count": 20,
   "id": "a7d45112",
   "metadata": {},
   "outputs": [
    {
     "ename": "AttributeError",
     "evalue": "module 'ftputil' has no attribute 'open'",
     "output_type": "error",
     "traceback": [
      "\u001b[1;31m---------------------------------------------------------------------------\u001b[0m",
      "\u001b[1;31mAttributeError\u001b[0m                            Traceback (most recent call last)",
      "\u001b[1;32m<ipython-input-20-e61188259823>\u001b[0m in \u001b[0;36m<module>\u001b[1;34m\u001b[0m\n\u001b[0;32m      1\u001b[0m \u001b[0mhostname\u001b[0m \u001b[1;33m=\u001b[0m \u001b[1;34m\"ftp://ftp.swpc.noaa.gov/pub/warehouse/\"\u001b[0m\u001b[1;33m\u001b[0m\u001b[1;33m\u001b[0m\u001b[0m\n\u001b[0;32m      2\u001b[0m \u001b[0mftp\u001b[0m \u001b[1;33m=\u001b[0m \u001b[0murllib\u001b[0m\u001b[1;33m.\u001b[0m\u001b[0mrequest\u001b[0m\u001b[1;33m.\u001b[0m\u001b[0murlopen\u001b[0m\u001b[1;33m(\u001b[0m\u001b[0mhostname\u001b[0m\u001b[1;33m)\u001b[0m\u001b[1;33m\u001b[0m\u001b[1;33m\u001b[0m\u001b[0m\n\u001b[1;32m----> 3\u001b[1;33m \u001b[0mprint\u001b[0m\u001b[1;33m(\u001b[0m\u001b[0mftputil\u001b[0m\u001b[1;33m.\u001b[0m\u001b[0mopen\u001b[0m\u001b[1;33m(\u001b[0m\u001b[0mftp\u001b[0m\u001b[1;33m)\u001b[0m\u001b[1;33m)\u001b[0m\u001b[1;33m\u001b[0m\u001b[1;33m\u001b[0m\u001b[0m\n\u001b[0m",
      "\u001b[1;31mAttributeError\u001b[0m: module 'ftputil' has no attribute 'open'"
     ]
    }
   ],
   "source": [
    "hostname = \"ftp://ftp.swpc.noaa.gov/pub/warehouse/\"\n",
    "ftp = urllib.request.urlopen(hostname)\n"
   ]
  },
  {
   "cell_type": "code",
   "execution_count": null,
   "id": "778939ba",
   "metadata": {},
   "outputs": [],
   "source": []
  }
 ],
 "metadata": {
  "kernelspec": {
   "display_name": "Python 3",
   "language": "python",
   "name": "python3"
  },
  "language_info": {
   "codemirror_mode": {
    "name": "ipython",
    "version": 3
   },
   "file_extension": ".py",
   "mimetype": "text/x-python",
   "name": "python",
   "nbconvert_exporter": "python",
   "pygments_lexer": "ipython3",
   "version": "3.6.13"
  },
  "varInspector": {
   "cols": {
    "lenName": 16,
    "lenType": 16,
    "lenVar": 40
   },
   "kernels_config": {
    "python": {
     "delete_cmd_postfix": "",
     "delete_cmd_prefix": "del ",
     "library": "var_list.py",
     "varRefreshCmd": "print(var_dic_list())"
    },
    "r": {
     "delete_cmd_postfix": ") ",
     "delete_cmd_prefix": "rm(",
     "library": "var_list.r",
     "varRefreshCmd": "cat(var_dic_list()) "
    }
   },
   "types_to_exclude": [
    "module",
    "function",
    "builtin_function_or_method",
    "instance",
    "_Feature"
   ],
   "window_display": false
  }
 },
 "nbformat": 4,
 "nbformat_minor": 5
}
