{
 "cells": [
  {
   "cell_type": "code",
   "execution_count": null,
   "id": "adf24320",
   "metadata": {},
   "outputs": [],
   "source": []
  },
  {
   "cell_type": "code",
   "execution_count": null,
   "id": "f75cdee1",
   "metadata": {},
   "outputs": [],
   "source": [
    "import ftputil\n",
    "import urllib \n",
    "from urllib.request import urlopen\n",
    "import os\n",
    "import pandas as pd"
   ]
  },
  {
   "cell_type": "code",
   "execution_count": 5,
   "id": "d96a3128",
   "metadata": {
    "code_folding": []
   },
   "outputs": [
    {
     "ename": "TypeError",
     "evalue": "show() takes 1 positional argument but 2 were given",
     "output_type": "error",
     "traceback": [
      "\u001b[1;31m---------------------------------------------------------------------------\u001b[0m",
      "\u001b[1;31mTypeError\u001b[0m                                 Traceback (most recent call last)",
      "\u001b[1;32m<ipython-input-5-4bc6dcd5f2a4>\u001b[0m in \u001b[0;36m<module>\u001b[1;34m\u001b[0m\n\u001b[0;32m      8\u001b[0m         \u001b[0mprint\u001b[0m\u001b[1;33m(\u001b[0m\u001b[0mbf\u001b[0m\u001b[1;33m)\u001b[0m\u001b[1;33m\u001b[0m\u001b[1;33m\u001b[0m\u001b[0m\n\u001b[0;32m      9\u001b[0m \u001b[0mab\u001b[0m \u001b[1;33m=\u001b[0m \u001b[0ma\u001b[0m\u001b[1;33m(\u001b[0m\u001b[1;33m)\u001b[0m\u001b[1;33m\u001b[0m\u001b[1;33m\u001b[0m\u001b[0m\n\u001b[1;32m---> 10\u001b[1;33m \u001b[0mab\u001b[0m\u001b[1;33m.\u001b[0m\u001b[0mshow\u001b[0m\u001b[1;33m(\u001b[0m\u001b[1;36m5\u001b[0m\u001b[1;33m)\u001b[0m\u001b[1;33m\u001b[0m\u001b[1;33m\u001b[0m\u001b[0m\n\u001b[0m\u001b[0;32m     11\u001b[0m \u001b[1;31m# bg = b(5)\u001b[0m\u001b[1;33m\u001b[0m\u001b[1;33m\u001b[0m\u001b[1;33m\u001b[0m\u001b[0m\n\u001b[0;32m     12\u001b[0m \u001b[1;31m# bg.hp()\u001b[0m\u001b[1;33m\u001b[0m\u001b[1;33m\u001b[0m\u001b[1;33m\u001b[0m\u001b[0m\n",
      "\u001b[1;31mTypeError\u001b[0m: show() takes 1 positional argument but 2 were given"
     ]
    }
   ],
   "source": [
    "#testing inheriance\n",
    "class a:\n",
    "    def __init_(**kwargs):\n",
    "        a = 5\n",
    "    def printing(bf):\n",
    "        print(bf)\n",
    "    def show(bf):\n",
    "        print(bf)  \n",
    "ab = a()\n",
    "ab.show(5)\n",
    "# bg = b(5)\n",
    "# bg.hp()"
   ]
  },
  {
   "cell_type": "code",
   "execution_count": null,
   "id": "1870b0a6",
   "metadata": {
    "code_folding": [
     17,
     23
    ]
   },
   "outputs": [],
   "source": [
    "#testing multiple inheritance\n",
    "class a:\n",
    "    def __init__(self,bf):\n",
    "        self.bf = bf\n",
    "    def printing(self):\n",
    "        print(self.bf)\n",
    "    def ht(self):\n",
    "        print(self.bf + 6)\n",
    "    \n",
    "class b(a):\n",
    "    def __init__(self,bf):\n",
    "        super().__init__(bf)#calling parent class functions and properties\n",
    "    def ht(self):\n",
    "        self.printing() #can call parent class method\n",
    "    def hp(self):\n",
    "        self.ht()\n",
    "# object of b\n",
    "class c:\n",
    "    def __init__(self, x):\n",
    "        self.x = x\n",
    "        \n",
    "    def three(self):\n",
    "        print(\"Third class :\", x)\n",
    "class derived(b,c):\n",
    "    def __init(self):\n",
    "        super().__init__()\n",
    "        \n",
    "    def using(self):\n",
    "        self.three()\n",
    "        \n",
    "bg = b(6)\n",
    "bg.hp()\n",
    "bs = a(6)\n",
    "bs.ht()"
   ]
  },
  {
   "cell_type": "code",
   "execution_count": null,
   "id": "feb31a87",
   "metadata": {},
   "outputs": [],
   "source": [
    "class a:\n",
    "    def __init__(self,bf, **kwargs):\n",
    "        self.bf = bf\n",
    "        for key, value in kwargs.items():\n",
    "          setattr(self, key, value)\n",
    "#         super(a,self).__init__()\n",
    "        \n",
    "        \n",
    "    def show(self):\n",
    "        print(self.bf)\n",
    "        print(self.b)\n",
    "g = a(6,a=8,b=11,c=55)\n",
    "g.show()\n",
    "# g.show()\n"
   ]
  },
  {
   "cell_type": "code",
   "execution_count": null,
   "id": "a0794a88",
   "metadata": {},
   "outputs": [],
   "source": [
    "class AMix:\n",
    "    def __init__(self, a, **kwargs):\n",
    "        super().__init__(**kwargs)\n",
    "        self.a = a\n",
    "    def ac(self,name):\n",
    "        def b(n):\n",
    "            print(n,self.a)\n",
    "        b(name)\n",
    "\n",
    "        \n",
    "g = AMix(5)\n",
    "g.ac(7)"
   ]
  },
  {
   "cell_type": "code",
   "execution_count": null,
   "id": "b290af73",
   "metadata": {},
   "outputs": [],
   "source": [
    "class First(object):\n",
    "    def __init__(self, *args, **kwargs):\n",
    "        self.first_arg = kwargs.pop('first_arg')\n",
    "        super(First, self).__init__(*args, **kwargs)\n",
    "\n",
    "class Second(First):\n",
    "    def __init__(self, *args, **kwargs):\n",
    "        self.second_arg = kwargs.pop('second_arg')\n",
    "        super(Second, self).__init__(*args, **kwargs)\n",
    "        \n",
    "    def show(self):\n",
    "        print(self.first_arg)\n",
    "\n",
    "class Third(Second):\n",
    "    def __init__(self, *args, **kwargs):\n",
    "        self.third_arg = kwargs.pop('third_arg')\n",
    "        super(Third, self).__init__(*args, **kwargs)"
   ]
  },
  {
   "cell_type": "code",
   "execution_count": null,
   "id": "c114bdc3",
   "metadata": {},
   "outputs": [],
   "source": [
    "third = Third(first_arg=1, second_arg=2, third_arg=3)\n",
    "third.show()"
   ]
  },
  {
   "cell_type": "code",
   "execution_count": null,
   "id": "199d6f45",
   "metadata": {},
   "outputs": [],
   "source": []
  }
 ],
 "metadata": {
  "kernelspec": {
   "display_name": "Python 3",
   "language": "python",
   "name": "python3"
  },
  "language_info": {
   "codemirror_mode": {
    "name": "ipython",
    "version": 3
   },
   "file_extension": ".py",
   "mimetype": "text/x-python",
   "name": "python",
   "nbconvert_exporter": "python",
   "pygments_lexer": "ipython3",
   "version": "3.6.13"
  },
  "varInspector": {
   "cols": {
    "lenName": 16,
    "lenType": 16,
    "lenVar": 40
   },
   "kernels_config": {
    "python": {
     "delete_cmd_postfix": "",
     "delete_cmd_prefix": "del ",
     "library": "var_list.py",
     "varRefreshCmd": "print(var_dic_list())"
    },
    "r": {
     "delete_cmd_postfix": ") ",
     "delete_cmd_prefix": "rm(",
     "library": "var_list.r",
     "varRefreshCmd": "cat(var_dic_list()) "
    }
   },
   "types_to_exclude": [
    "module",
    "function",
    "builtin_function_or_method",
    "instance",
    "_Feature"
   ],
   "window_display": false
  }
 },
 "nbformat": 4,
 "nbformat_minor": 5
}
